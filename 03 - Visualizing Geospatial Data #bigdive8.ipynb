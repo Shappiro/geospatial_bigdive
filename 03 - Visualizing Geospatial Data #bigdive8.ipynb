{
 "cells": [
  {
   "cell_type": "markdown",
   "metadata": {},
   "source": [
    "# Visualizing Geospatial Data\n",
    "based on scipy2018-geospatial\n",
    "\n",
    "## goals of the tutorial\n",
    "- plot a map with matplotlib\n",
    "- choropleth map\n",
    "- folium\n",
    "\n",
    "**based on the open data of:**\n",
    "- [ISTAT](https://www.istat.it/it/archivio/222527) Italian National Institute of Statistic \n",
    "- [MIBACT](https://anagrafe.iccu.sbn.it/it/open-data/) Italian Ministery of Cultural Heritage\n",
    "\n",
    "\n",
    "### requirements\n",
    "- python knowledge\n",
    "- pandas\n",
    "\n",
    "### status \n",
    "*\"the map is not the territory\"*\n",
    "\n",
    "---"
   ]
  },
  {
   "cell_type": "code",
   "execution_count": 1,
   "metadata": {},
   "outputs": [],
   "source": [
    "%matplotlib inline\n",
    "import os\n",
    "import pandas as pd\n",
    "import geopandas as gpd\n",
    "import requests, zipfile, io\n",
    "from shapely.geometry import Point\n",
    "pd.options.display.max_rows = 10"
   ]
  },
  {
   "cell_type": "markdown",
   "metadata": {},
   "source": [
    "## data setup\n",
    "based on the previous tutorial"
   ]
  },
  {
   "cell_type": "code",
   "execution_count": 2,
   "metadata": {},
   "outputs": [
    {
     "name": "stdout",
     "output_type": "stream",
     "text": [
      "CPU times: user 3 µs, sys: 1 µs, total: 4 µs\n",
      "Wall time: 5.96 µs\n"
     ]
    }
   ],
   "source": [
    "# download the data\n",
    "zip_file_url = 'http://www.istat.it/storage/cartografia/confini_amministrativi/non_generalizzati/Limiti01012019.zip'\n",
    "#request the file\n",
    "r = requests.get(zip_file_url)\n",
    "z = zipfile.ZipFile(io.BytesIO(r.content))\n",
    "#unzip the file\n",
    "z.extractall()\n",
    "# read the file\n",
    "macroregions=gpd.read_file('Limiti01012019' + os.sep + 'RipGeo01012019' + os.sep + 'RipGeo01012019_WGS84.shp')\n",
    "macroregions['nation']='italy'\n",
    "italy = macroregions[['nation', 'geometry']]\n",
    "italy = italy.dissolve(by='nation')\n",
    "%time"
   ]
  },
  {
   "cell_type": "code",
   "execution_count": 3,
   "metadata": {},
   "outputs": [
    {
     "name": "stdout",
     "output_type": "stream",
     "text": [
      "CPU times: user 12 µs, sys: 0 ns, total: 12 µs\n",
      "Wall time: 15.7 µs\n"
     ]
    }
   ],
   "source": [
    "libraries = pd.read_csv('http://opendata.anagrafe.iccu.sbn.it/territorio.zip', compression='zip', sep=';')\n",
    "libraries.latitudine = pd.to_numeric(libraries.latitudine.str.replace(\",\",\".\"))\n",
    "libraries.longitudine = pd.to_numeric(libraries.longitudine.str.replace(\",\",\".\"))\n",
    "libraries = libraries[libraries.latitudine.isnull() == False]\n",
    "libraries = gpd.GeoDataFrame(\n",
    "    libraries.drop(['longitudine', 'latitudine'], axis=1),\n",
    "    crs={'init': 'epsg:4326'},\n",
    "    geometry=[Point(xy) for xy in zip(libraries.longitudine, libraries.latitudine)])\n",
    "libraries = libraries.to_crs('epsg:32632')\n",
    "%time"
   ]
  },
  {
   "cell_type": "code",
   "execution_count": null,
   "metadata": {},
   "outputs": [],
   "source": [
    "libraries= libraries[libraries.within(italy.geometry[0])]\n",
    "%time"
   ]
  },
  {
   "cell_type": "code",
   "execution_count": null,
   "metadata": {},
   "outputs": [],
   "source": [
    "italy.geometry[0].buffer(0)"
   ]
  },
  {
   "cell_type": "code",
   "execution_count": null,
   "metadata": {},
   "outputs": [],
   "source": [
    "libraries"
   ]
  },
  {
   "cell_type": "markdown",
   "metadata": {},
   "source": [
    "# GeoPandas visualization functionality\n",
    "\n",
    "**Basic plot**\n"
   ]
  },
  {
   "cell_type": "markdown",
   "metadata": {},
   "source": [
    "**Adjusting the figure size**\n"
   ]
  },
  {
   "cell_type": "markdown",
   "metadata": {},
   "source": [
    "**Removing the box / x and y coordinate label**"
   ]
  },
  {
   "cell_type": "markdown",
   "metadata": {},
   "source": [
    "**Combining different dataframes on a single plot**"
   ]
  },
  {
   "cell_type": "code",
   "execution_count": null,
   "metadata": {},
   "outputs": [],
   "source": []
  }
 ],
 "metadata": {
  "kernelspec": {
   "display_name": "Python 3",
   "language": "python",
   "name": "python3"
  },
  "language_info": {
   "codemirror_mode": {
    "name": "ipython",
    "version": 3
   },
   "file_extension": ".py",
   "mimetype": "text/x-python",
   "name": "python",
   "nbconvert_exporter": "python",
   "pygments_lexer": "ipython3",
   "version": "3.7.3"
  }
 },
 "nbformat": 4,
 "nbformat_minor": 2
}
